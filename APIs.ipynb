{
 "metadata": {
  "name": ""
 },
 "nbformat": 3,
 "nbformat_minor": 0,
 "worksheets": [
  {
   "cells": [
    {
     "cell_type": "markdown",
     "metadata": {},
     "source": [
      "This returns the minute for which the results matching your query are greatest"
     ]
    },
    {
     "cell_type": "code",
     "collapsed": false,
     "input": [
      "#!/usr/bin/env python\n",
      "# -*- coding: utf-8 -*-\n",
      "import urllib2\n",
      "import base64\n",
      "import json\n",
      "import xml\n",
      "import sys\n",
      "import pprint\n",
      "pp = pprint.PrettyPrinter(indent=4)"
     ],
     "language": "python",
     "metadata": {},
     "outputs": []
    },
    {
     "cell_type": "code",
     "collapsed": false,
     "input": [
      "class RequestWithMethod(urllib2.Request):\n",
      "    def __init__(self, url, method, headers={}):\n",
      "        self._method = method\n",
      "        urllib2.Request.__init__(self, url, headers)\n",
      "\n",
      "    def get_method(self):\n",
      "        if self._method:\n",
      "            return self._method\n",
      "        else:\n",
      "            return urllib2.Request.get_method(self) \n",
      "\n",
      "if __name__ == \"__main__\":\n",
      "\n",
      "\turl = 'https://search.gnip.com/accounts/Periscopic/search/prod/counts.json'\n",
      "    #username is typically an email address\n",
      "    UN = 'email@email.com'\n",
      "\tPWD = 'password'\n",
      "\tquery = \"venezuela&fromDate=201403030100&toDate=201403030300&bucket=minute\"\n",
      "\n",
      "\tqueryString = url + '?publisher=twitter&query=' + query\n",
      "\n",
      "\tbase64string = base64.encodestring('%s:%s' % (UN, PWD)).replace('\\n', '')\n",
      "\n",
      "\treq = RequestWithMethod(queryString, 'GET')\n",
      "\treq.add_header(\"Authorization\", \"Basic %s\" % base64string)\n",
      "\n",
      "\ttry:\n",
      "\t\tresponse = urllib2.urlopen(req)\n",
      "\texcept urllib2.HTTPError as e:\n",
      "            print e.read()\n",
      "\n",
      "\tresult = response.read()\n",
      "\tjson_result = json.loads(result)\n",
      "\n",
      "\ttwit_dicts = json_result['results']\n",
      "\tmax_value = {'count':0}\n",
      "\tfor item in twit_dicts:\n",
      "\t\tif item['count'] > max_value['count']:\n",
      "\t\t\tmax_value = item\n",
      "\tprint result\n",
      "\t# print max_value"
     ],
     "language": "python",
     "metadata": {},
     "outputs": []
    }
   ],
   "metadata": {}
  }
 ]
}